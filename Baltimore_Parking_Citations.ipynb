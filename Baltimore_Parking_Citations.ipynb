{
  "nbformat": 4,
  "nbformat_minor": 0,
  "metadata": {
    "kernelspec": {
      "display_name": "Python 3",
      "language": "python",
      "name": "python3"
    },
    "language_info": {
      "codemirror_mode": {
        "name": "ipython",
        "version": 3
      },
      "file_extension": ".py",
      "mimetype": "text/x-python",
      "name": "python",
      "nbconvert_exporter": "python",
      "pygments_lexer": "ipython3",
      "version": "3.8.3"
    },
    "colab": {
      "name": "Baltimore_Parking_Citations.ipynb",
      "provenance": [],
      "include_colab_link": true
    }
  },
  "cells": [
    {
      "cell_type": "markdown",
      "metadata": {
        "id": "view-in-github",
        "colab_type": "text"
      },
      "source": [
        "<a href=\"https://colab.research.google.com/github/mmohtadi/baltimore_parking_citations/blob/main/Baltimore_Parking_Citations.ipynb\" target=\"_parent\"><img src=\"https://colab.research.google.com/assets/colab-badge.svg\" alt=\"Open In Colab\"/></a>"
      ]
    },
    {
      "cell_type": "markdown",
      "metadata": {
        "id": "D27B95hN8lnw"
      },
      "source": [
        "## Parking Citations - City of Baltimore\n",
        "The City of Baltimore maintains a database of parking citations issued within the city. More information about the dataset can be found here: (https://data.baltimorecity.gov/Transportation/Parking-Citations/n4ma-fj3m). You can download the dataset as a CSV file here:(https://data.baltimorecity.gov/api/views/n4ma-fj3m/rows.csv). Unless stated otherwise, you should only consider citations written before January 1, 2019."
      ]
    },
    {
      "cell_type": "code",
      "metadata": {
        "id": "QSpmPLUo8ln2"
      },
      "source": [
        "import numpy as np\n",
        "import pandas as pd\n",
        "import matplotlib.pyplot as plt"
      ],
      "execution_count": null,
      "outputs": []
    },
    {
      "cell_type": "code",
      "metadata": {
        "colab": {
          "base_uri": "https://localhost:8080/"
        },
        "id": "0NPjSkj78ln3",
        "outputId": "bd1ee6ba-e54e-4213-c772-4459c1fff6be"
      },
      "source": [
        "parking_citations_df = pd.read_csv('https://data.baltimorecity.gov/api/views/n4ma-fj3m/rows.csv')"
      ],
      "execution_count": null,
      "outputs": [
        {
          "output_type": "stream",
          "text": [
            "/usr/local/lib/python3.6/dist-packages/IPython/core/interactiveshell.py:2718: DtypeWarning: Columns (2,18,19,20,21,22,24) have mixed types.Specify dtype option on import or set low_memory=False.\n",
            "  interactivity=interactivity, compiler=compiler, result=result)\n"
          ],
          "name": "stderr"
        }
      ]
    },
    {
      "cell_type": "code",
      "metadata": {
        "colab": {
          "base_uri": "https://localhost:8080/"
        },
        "id": "YetauQqp8ln3",
        "outputId": "2b4f8dd9-4792-4ca2-d02e-9de1f650e15e"
      },
      "source": [
        "parking_citations_df.info()"
      ],
      "execution_count": null,
      "outputs": [
        {
          "output_type": "stream",
          "text": [
            "<class 'pandas.core.frame.DataFrame'>\n",
            "RangeIndex: 4859412 entries, 0 to 4859411\n",
            "Data columns (total 28 columns):\n",
            " #   Column                       Dtype  \n",
            "---  ------                       -----  \n",
            " 0   Citation                     int64  \n",
            " 1   Tag                          object \n",
            " 2   ExpMM                        object \n",
            " 3   ExpYY                        float64\n",
            " 4   State                        object \n",
            " 5   Make                         object \n",
            " 6   Address                      object \n",
            " 7   ViolCode                     int64  \n",
            " 8   Description                  object \n",
            " 9   ViolFine                     float64\n",
            " 10  ViolDate                     object \n",
            " 11  Balance                      float64\n",
            " 12  PenaltyDate                  float64\n",
            " 13  OpenFine                     float64\n",
            " 14  OpenPenalty                  float64\n",
            " 15  NoticeDate                   object \n",
            " 16  InvestigationStatus          object \n",
            " 17  TrialStatus                  object \n",
            " 18  GeneralStatus                object \n",
            " 19  GroupID                      object \n",
            " 20  ImportDate                   object \n",
            " 21  Neighborhood                 object \n",
            " 22  PoliceDistrict               object \n",
            " 23  CouncilDistrict              float64\n",
            " 24  Location                     object \n",
            " 25  2010 Census Neighborhoods    float64\n",
            " 26  2010 Census Wards Precincts  float64\n",
            " 27  Zip Codes                    float64\n",
            "dtypes: float64(10), int64(2), object(16)\n",
            "memory usage: 1.0+ GB\n"
          ],
          "name": "stdout"
        }
      ]
    },
    {
      "cell_type": "code",
      "metadata": {
        "scrolled": false,
        "colab": {
          "base_uri": "https://localhost:8080/"
        },
        "id": "Olmb9T988ln4",
        "outputId": "44978ce7-aacd-491d-8904-4e2aab7300c7"
      },
      "source": [
        "parking_citations_df.isna().sum()"
      ],
      "execution_count": null,
      "outputs": [
        {
          "output_type": "execute_result",
          "data": {
            "text/plain": [
              "Citation                             0\n",
              "Tag                                305\n",
              "ExpMM                            93298\n",
              "ExpYY                               31\n",
              "State                                1\n",
              "Make                              3843\n",
              "Address                              7\n",
              "ViolCode                             0\n",
              "Description                          0\n",
              "ViolFine                             0\n",
              "ViolDate                          4454\n",
              "Balance                              0\n",
              "PenaltyDate                    4859412\n",
              "OpenFine                             0\n",
              "OpenPenalty                          0\n",
              "NoticeDate                     2677221\n",
              "InvestigationStatus            4842716\n",
              "TrialStatus                    4749310\n",
              "GeneralStatus                  4511627\n",
              "GroupID                        4511655\n",
              "ImportDate                      924008\n",
              "Neighborhood                   4455400\n",
              "PoliceDistrict                 4455394\n",
              "CouncilDistrict                4455367\n",
              "Location                       3171058\n",
              "2010 Census Neighborhoods      4657463\n",
              "2010 Census Wards Precincts    4657499\n",
              "Zip Codes                      4657444\n",
              "dtype: int64"
            ]
          },
          "metadata": {
            "tags": []
          },
          "execution_count": 4
        }
      ]
    },
    {
      "cell_type": "code",
      "metadata": {
        "id": "FmSjZ_WS8ln5"
      },
      "source": [
        "parking_citations_df.drop(['ExpMM', 'ExpYY'], axis = 1, inplace = True)"
      ],
      "execution_count": null,
      "outputs": []
    },
    {
      "cell_type": "code",
      "metadata": {
        "id": "et6d2mKF8ln5"
      },
      "source": [
        "parking_citations_df.dropna(how = 'any', subset = ['ViolCode', 'PoliceDistrict'], inplace = True)"
      ],
      "execution_count": null,
      "outputs": []
    },
    {
      "cell_type": "code",
      "metadata": {
        "id": "MaO5nek88ln5"
      },
      "source": [
        "parking_citations_df.reset_index(drop = True, inplace = True)"
      ],
      "execution_count": null,
      "outputs": []
    },
    {
      "cell_type": "code",
      "metadata": {
        "id": "Z5NSacrL8ln6"
      },
      "source": [
        "i = 0\n",
        "for dist in parking_citations_df['PoliceDistrict']:\n",
        "    if dist == 'CENTRAL':\n",
        "        parking_citations_df.loc[[i], ['PoliceDistrict']] = 'Central'\n",
        "    elif dist == 'NORTHERN':\n",
        "        parking_citations_df.loc[[i], ['PoliceDistrict']] = 'Northern'\n",
        "    elif dist == 'SOUTHERN':\n",
        "        parking_citations_df.loc[[i], ['PoliceDistrict']] = 'Southern'\n",
        "    elif dist == 'EASTERN':\n",
        "        parking_citations_df.loc[[i], ['PoliceDistrict']] = 'Eastern'\n",
        "    elif dist == 'WESTERN':\n",
        "        parking_citations_df.loc[[i], ['PoliceDistrict']] = 'Western'\n",
        "    elif dist == 'NORTHEASTERN' or dist == 'Notheastern':\n",
        "        parking_citations_df.loc[[i], ['PoliceDistrict']] = 'Northeastern'\n",
        "    elif dist == 'NORTHWESTERN':\n",
        "        parking_citations_df.loc[[i], ['PoliceDistrict']] = 'Northeastern'\n",
        "    elif dist == 'SOUTHEASTERN':\n",
        "        parking_citations_df.loc[[i], ['PoliceDistrict']] = 'Southeastern'\n",
        "    elif dist == 'SOUTHWESTERN':\n",
        "        parking_citations_df.loc[[i], ['PoliceDistrict']] = 'Southwestern'\n",
        "    i += 1"
      ],
      "execution_count": null,
      "outputs": []
    },
    {
      "cell_type": "code",
      "metadata": {
        "id": "EJK5wlg68ln6"
      },
      "source": [
        "i = 0\n",
        "for dist in parking_citations_df['Make']:\n",
        "    if dist == 'ACUR':\n",
        "        parking_citations_df.loc[[i], ['Make']] = 'ACURA'\n",
        "    elif dist == 'AUOI':\n",
        "        parking_citations_df.loc[[i], ['Make']] = 'AUDI'\n",
        "    elif dist == '.NISS':\n",
        "        parking_citations_df.loc[[i], ['Make']] = 'NISSN'\n",
        "    elif dist == 'B0AT':\n",
        "        parking_citations_df.loc[[i], ['Make']] = 'BOAT'\n",
        "    elif dist == 'BUIC':\n",
        "        parking_citations_df.loc[[i], ['Make']] = 'BUICK'\n",
        "    elif dist == 'CHEV':\n",
        "        parking_citations_df.loc[[i], ['Make']] = 'CHEVY'\n",
        "    elif dist == 'CHEVR':\n",
        "        parking_citations_df.loc[[i], ['Make']] = 'CHEVY'\n",
        "    elif dist == 'CHRY':\n",
        "        parking_citations_df.loc[[i], ['Make']] = 'CHRYS'\n",
        "    elif dist == 'CADI':\n",
        "        parking_citations_df.loc[[i], ['Make']] = 'CADIL'\n",
        "    elif dist == 'COM.':\n",
        "        parking_citations_df.loc[[i], ['Make']] = 'COMMV'\n",
        "    elif dist == 'DISP':\n",
        "        parking_citations_df.loc[[i], ['Make']] = 'DISPL'\n",
        "    elif dist == 'DOD':\n",
        "        parking_citations_df.loc[[i], ['Make']] = 'DODGE'\n",
        "    elif dist == 'DODG':\n",
        "        parking_citations_df.loc[[i], ['Make']] = 'DODGE'\n",
        "    elif dist == 'FAIT':\n",
        "        parking_citations_df.loc[[i], ['Make']] = 'FIAT'    \n",
        "    elif dist == 'FLAL':\n",
        "        parking_citations_df.loc[[i], ['Make']] = 'FLAT'\n",
        "    elif dist == 'FORD1':\n",
        "        parking_citations_df.loc[[i], ['Make']] = 'FORD'\n",
        "    elif dist == 'FRE':\n",
        "        parking_citations_df.loc[[i], ['Make']] = 'FREIG'\n",
        "    elif dist == 'FREI':\n",
        "        parking_citations_df.loc[[i], ['Make']] = 'FREIG'\n",
        "    elif dist == 'FREIT':\n",
        "        parking_citations_df.loc[[i], ['Make']] = 'FREIG'\n",
        "    elif dist == 'FRI':\n",
        "        parking_citations_df.loc[[i], ['Make']] = 'FREIG'\n",
        "    elif dist == 'FRIGH':\n",
        "        parking_citations_df.loc[[i], ['Make']] = 'FREIG'\n",
        "    elif dist == 'H0NDA':\n",
        "        parking_citations_df.loc[[i], ['Make']] = 'HONDA'\n",
        "    elif dist == 'HARLE':\n",
        "        parking_citations_df.loc[[i], ['Make']] = 'HARLY'\n",
        "    elif dist == 'HO':\n",
        "        parking_citations_df.loc[[i], ['Make']] = 'HONDA'\n",
        "    elif dist == 'HOND':\n",
        "        parking_citations_df.loc[[i], ['Make']] = 'HONDA'\n",
        "    elif dist == 'HYUN':\n",
        "        parking_citations_df.loc[[i], ['Make']] = 'HYUND'\n",
        "    elif dist == 'INFI':\n",
        "        parking_citations_df.loc[[i], ['Make']] = 'INFIN'\n",
        "    elif dist == 'ISU':\n",
        "        parking_citations_df.loc[[i], ['Make']] = 'ISUZU'\n",
        "    elif dist == 'ISUZ':\n",
        "        parking_citations_df.loc[[i], ['Make']] = 'ISUZU'\n",
        "    elif dist == 'JAG':\n",
        "        parking_citations_df.loc[[i], ['Make']] = 'JAGUA'\n",
        "    elif dist == 'JAGU':\n",
        "        parking_citations_df.loc[[i], ['Make']] = 'JAGUA'\n",
        "    elif dist == 'KAW':\n",
        "        parking_citations_df.loc[[i], ['Make']] = 'KAWAS'\n",
        "    elif dist == 'KAWA':\n",
        "        parking_citations_df.loc[[i], ['Make']] = 'KAWAS'\n",
        "    elif dist == 'LAND':\n",
        "        parking_citations_df.loc[[i], ['Make']] = 'LANDR'\n",
        "    elif dist == 'LNDR':\n",
        "        parking_citations_df.loc[[i], ['Make']] = 'LANDR'\n",
        "    elif dist == 'LEXS':\n",
        "        parking_citations_df.loc[[i], ['Make']] = 'LEXUS'\n",
        "    elif dist == 'LEXU':\n",
        "        parking_citations_df.loc[[i], ['Make']] = 'LEXUS'\n",
        "    elif dist == 'LINC':\n",
        "        parking_citations_df.loc[[i], ['Make']] = 'LINCO'\n",
        "    elif dist == 'MASE':\n",
        "        parking_citations_df.loc[[i], ['Make']] = 'MASER'\n",
        "    elif dist == 'MAZD':\n",
        "        parking_citations_df.loc[[i], ['Make']] = 'MAZDA'\n",
        "    elif dist == 'MERC':\n",
        "        parking_citations_df.loc[[i], ['Make']] = 'MERCU'\n",
        "    elif dist == 'MERCE':\n",
        "        parking_citations_df.loc[[i], ['Make']] = 'MERCU'\n",
        "    elif dist == 'MERZ':\n",
        "        parking_citations_df.loc[[i], ['Make']] = 'BENZ'\n",
        "    elif dist == 'MEZ':\n",
        "        parking_citations_df.loc[[i], ['Make']] = 'BENZ'\n",
        "    elif dist == 'MINI':\n",
        "        parking_citations_df.loc[[i], ['Make']] = 'MINIC'\n",
        "    elif dist == 'MINI-':\n",
        "        parking_citations_df.loc[[i], ['Make']] = 'MINIC'\n",
        "    elif dist == 'MITO':\n",
        "        parking_citations_df.loc[[i], ['Make']] = 'MITSU'\n",
        "    elif dist == 'MITS':\n",
        "        parking_citations_df.loc[[i], ['Make']] = 'MITSU'\n",
        "    elif dist == 'NISSA':\n",
        "        parking_citations_df.loc[[i], ['Make']] = 'NISSN'\n",
        "    elif dist == 'NISS':\n",
        "        parking_citations_df.loc[[i], ['Make']] = 'NISSN'\n",
        "    elif dist == 'OLDS':\n",
        "        parking_citations_df.loc[[i], ['Make']] = 'OLDSM'   \n",
        "    elif dist == 'OTH':\n",
        "        parking_citations_df.loc[[i], ['Make']] = 'OTHER'\n",
        "    elif dist == 'OTHE':\n",
        "        parking_citations_df.loc[[i], ['Make']] = 'OTHER'\n",
        "    elif dist == 'OTHEH':\n",
        "        parking_citations_df.loc[[i], ['Make']] = 'OTHER'\n",
        "    elif dist == 'PARK':\n",
        "        parking_citations_df.loc[[i], ['Make']] = 'PARKE'     \n",
        "    elif dist == 'PLYM':\n",
        "        parking_citations_df.loc[[i], ['Make']] = 'PLYMO'\n",
        "    elif dist == 'PONI':\n",
        "        parking_citations_df.loc[[i], ['Make']] = 'PONTI'   \n",
        "    elif dist == 'PONT':\n",
        "        parking_citations_df.loc[[i], ['Make']] = 'PONTI'\n",
        "    elif dist == 'PORCH':\n",
        "        parking_citations_df.loc[[i], ['Make']] = 'PORSC'\n",
        "    elif dist == 'PORS':\n",
        "        parking_citations_df.loc[[i], ['Make']] = 'PORSC'\n",
        "    elif dist == 'PARK':\n",
        "        parking_citations_df.loc[[i], ['Make']] = 'PARKE'\n",
        "    elif dist == 'R ROV':\n",
        "        parking_citations_df.loc[[i], ['Make']] = 'RROVE'\n",
        "    elif dist == 'RANGE':\n",
        "        parking_citations_df.loc[[i], ['Make']] = 'RROVE'\n",
        "    elif dist == 'RROV':\n",
        "        parking_citations_df.loc[[i], ['Make']] = 'RROVE'\n",
        "    elif dist == 'SA':\n",
        "        parking_citations_df.loc[[i], ['Make']] = 'SAAB'\n",
        "    elif dist == 'SAA':\n",
        "        parking_citations_df.loc[[i], ['Make']] = 'SAAB'\n",
        "    elif dist == 'SATR':\n",
        "        parking_citations_df.loc[[i], ['Make']] = 'SATUR'\n",
        "    elif dist == 'SATU':\n",
        "        parking_citations_df.loc[[i], ['Make']] = 'SATUR'\n",
        "    elif dist == 'SCIO':\n",
        "        parking_citations_df.loc[[i], ['Make']] = 'SCION'\n",
        "    elif dist == 'SMAR':\n",
        "        parking_citations_df.loc[[i], ['Make']] = 'SMART'   \n",
        "    elif dist == 'SUBA':\n",
        "        parking_citations_df.loc[[i], ['Make']] = 'SUBAR'\n",
        "    elif dist == 'SUKI':\n",
        "        parking_citations_df.loc[[i], ['Make']] = 'SUZUK'\n",
        "    elif dist == 'SUZ':\n",
        "        parking_citations_df.loc[[i], ['Make']] = 'SUZUK'\n",
        "    elif dist == 'SUZI':\n",
        "        parking_citations_df.loc[[i], ['Make']] = 'SUZUK'     \n",
        "    elif dist == 'SUZU':\n",
        "        parking_citations_df.loc[[i], ['Make']] = 'SUZUK'\n",
        "    elif dist == 'TOYT':\n",
        "        parking_citations_df.loc[[i], ['Make']] = 'TOYOT'   \n",
        "    elif dist == 'U HAU':\n",
        "        parking_citations_df.loc[[i], ['Make']] = 'UHAUL'\n",
        "    elif dist == 'UNK':\n",
        "        parking_citations_df.loc[[i], ['Make']] = 'UNKNO'\n",
        "    elif dist == 'UNKN':\n",
        "        parking_citations_df.loc[[i], ['Make']] = 'UNKNO'\n",
        "    elif dist == 'UNKN0':\n",
        "        parking_citations_df.loc[[i], ['Make']] = 'UNKNO'       \n",
        "    elif dist == 'UNKWN':\n",
        "        parking_citations_df.loc[[i], ['Make']] = 'UNKNO'\n",
        "    elif dist == 'VOLK':\n",
        "        parking_citations_df.loc[[i], ['Make']] = 'VOLKS'\n",
        "    elif dist == 'VOLO':\n",
        "        parking_citations_df.loc[[i], ['Make']] = 'VOLVO'\n",
        "    elif dist == 'VOLV':\n",
        "        parking_citations_df.loc[[i], ['Make']] = 'VOLVO'\n",
        "    elif dist == 'VW':\n",
        "        parking_citations_df.loc[[i], ['Make']] = 'VOLKS'\n",
        "    elif dist == 'YAMA':\n",
        "        parking_citations_df.loc[[i], ['Make']] = 'YAMAH'\n",
        "    i += 1"
      ],
      "execution_count": null,
      "outputs": []
    },
    {
      "cell_type": "code",
      "metadata": {
        "id": "NWHPVRzj8ln-"
      },
      "source": [
        "make_drop = parking_citations_df['Make'].value_counts()[parking_citations_df['Make'].value_counts() < 10].index\n",
        "make_drop_index = parking_citations_df[parking_citations_df['Make'].isin(make_drop)].index\n",
        "parking_citations_df.drop(index = make_drop_index, inplace = True)"
      ],
      "execution_count": null,
      "outputs": []
    },
    {
      "cell_type": "code",
      "metadata": {
        "id": "yHvnP43c8loA"
      },
      "source": [
        "parking_citations_df.reset_index(drop = True, inplace = True)"
      ],
      "execution_count": null,
      "outputs": []
    },
    {
      "cell_type": "code",
      "metadata": {
        "scrolled": true,
        "id": "AeSqSNYR8loB"
      },
      "source": [
        "parking_citations_df[['Citation', 'ViolCode']] = parking_citations_df[['Citation', 'ViolCode']].astype(int)"
      ],
      "execution_count": null,
      "outputs": []
    },
    {
      "cell_type": "code",
      "metadata": {
        "id": "AdLAbOR08loB"
      },
      "source": [
        "parking_citations_df[['ViolDate', 'PenaltyDate', 'NoticeDate', 'ImportDate']] = \\\n",
        "parking_citations_df[['ViolDate', 'PenaltyDate', 'NoticeDate', 'ImportDate']].astype('datetime64[D]')"
      ],
      "execution_count": null,
      "outputs": []
    },
    {
      "cell_type": "markdown",
      "metadata": {
        "id": "jBolT-Tl8loB"
      },
      "source": [
        "#### For all citations, what is the mean violation fine?"
      ]
    },
    {
      "cell_type": "code",
      "metadata": {
        "colab": {
          "base_uri": "https://localhost:8080/"
        },
        "id": "xHCVOkPN8loB",
        "outputId": "c5232852-5143-4b13-cb6a-046b17f586c3"
      },
      "source": [
        "viol_fine_mean_total = parking_citations_df['ViolFine'][parking_citations_df['ViolDate'] < '2019-01-01'].mean()\n",
        "viol_fine_mean_total"
      ],
      "execution_count": null,
      "outputs": [
        {
          "output_type": "execute_result",
          "data": {
            "text/plain": [
              "50.54528691223603"
            ]
          },
          "metadata": {
            "tags": []
          },
          "execution_count": 14
        }
      ]
    },
    {
      "cell_type": "markdown",
      "metadata": {
        "id": "Tq07nP1E8loC"
      },
      "source": [
        "#### Looking only at vehicles that have open penalty fees, what dollar amount is the 81st percentile of that group?"
      ]
    },
    {
      "cell_type": "code",
      "metadata": {
        "colab": {
          "base_uri": "https://localhost:8080/"
        },
        "id": "LauSq4jm8loC",
        "outputId": "cbddc43f-a39b-4efc-a854-95c3a2796fd6"
      },
      "source": [
        "viol_fine_percentile_81 = parking_citations_df['ViolFine'].describe(percentiles = [0.81])[5]\n",
        "viol_fine_percentile_81"
      ],
      "execution_count": null,
      "outputs": [
        {
          "output_type": "execute_result",
          "data": {
            "text/plain": [
              "52.0"
            ]
          },
          "metadata": {
            "tags": []
          },
          "execution_count": 15
        }
      ]
    },
    {
      "cell_type": "markdown",
      "metadata": {
        "id": "IiJf-GEf8loC"
      },
      "source": [
        "#### Find the police district that has the highest mean violation fine. What is that mean violation fine? Keep in mind that Baltimore is divided into nine police districts, so clean the data accordingly."
      ]
    },
    {
      "cell_type": "code",
      "metadata": {
        "colab": {
          "base_uri": "https://localhost:8080/"
        },
        "id": "si3GcpZJ8loC",
        "outputId": "81aa113c-dd5f-4d0a-da98-77fd78abc783"
      },
      "source": [
        "police_dist = parking_citations_df['PoliceDistrict'].sort_values().unique()\n",
        "for dist in police_dist:\n",
        "    print(dist, ':', parking_citations_df['ViolFine'][parking_citations_df['PoliceDistrict'] == dist].mean())"
      ],
      "execution_count": null,
      "outputs": [
        {
          "output_type": "stream",
          "text": [
            "Central : 45.069654762690604\n",
            "Eastern : 51.005693436510164\n",
            "Northeastern : 61.27864549993599\n",
            "Northern : 48.57254765904609\n",
            "Northwestern : 61.08364611260053\n",
            "Southeastern : 50.166710654656036\n",
            "Southern : 55.39105642256903\n",
            "Southwestern : 58.499898208469055\n",
            "Western : 53.84131017278019\n"
          ],
          "name": "stdout"
        }
      ]
    },
    {
      "cell_type": "markdown",
      "metadata": {
        "id": "T7qbSAvP8loD"
      },
      "source": [
        "#### Find the ten vehicle makes that received the most citations during 2017. For those top ten, find all Japanese-made vehicles. What proportion of all citations were written for those vehicles? Note that the naming in Make is not consistent over the whole dataset, so you will need to clean the data before calculating your answer. Your answer should be expressed as a decimal number (i.e. 0.42, not 42)."
      ]
    },
    {
      "cell_type": "code",
      "metadata": {
        "colab": {
          "base_uri": "https://localhost:8080/"
        },
        "id": "KsDTDP1f8loD",
        "outputId": "e5a094b3-d73f-4939-d087-660c8a719c5e"
      },
      "source": [
        "make_citations_2017 = parking_citations_df['Make'][parking_citations_df['ViolDate'].dt.year == 2017].value_counts()\n",
        "make_top_ten_citations_2017 = make_citations_2017.nlargest(n = 10)\n",
        "make_top_ten_citations_2017"
      ],
      "execution_count": null,
      "outputs": [
        {
          "output_type": "execute_result",
          "data": {
            "text/plain": [
              "HONDA    7793\n",
              "TOYOT    7058\n",
              "FORD     6562\n",
              "CHEVY    5263\n",
              "NISSN    5079\n",
              "HYUND    2737\n",
              "DODGE    2428\n",
              "JEEP     2013\n",
              "ACURA    1936\n",
              "VOLKS    1846\n",
              "Name: Make, dtype: int64"
            ]
          },
          "metadata": {
            "tags": []
          },
          "execution_count": 17
        }
      ]
    },
    {
      "cell_type": "code",
      "metadata": {
        "colab": {
          "base_uri": "https://localhost:8080/"
        },
        "id": "3R72VPBY8loD",
        "outputId": "f392b193-7f27-4779-8b17-0fe409c8c138"
      },
      "source": [
        "make_japanese = ['HONDA', 'TOYOT', 'NISSA', 'ACURA', 'LEXUS', 'INFIN', 'MAZDA', 'SUBAR', 'MITSU', 'ISUZU', 'SUZUK']\n",
        "make_japanese_citations = parking_citations_df['Make'][parking_citations_df['Make'].isin(make_japanese)].value_counts()\n",
        "make_japanese_top_ten_citations = make_japanese_citations.nlargest(n = 10)\n",
        "make_japanese_top_ten_citations"
      ],
      "execution_count": null,
      "outputs": [
        {
          "output_type": "execute_result",
          "data": {
            "text/plain": [
              "HONDA    48118\n",
              "TOYOT    42982\n",
              "ACURA    12569\n",
              "MAZDA     8914\n",
              "LEXUS     8592\n",
              "SUBAR     7348\n",
              "INFIN     5402\n",
              "MITSU     3518\n",
              "SUZUK      722\n",
              "ISUZU      659\n",
              "Name: Make, dtype: int64"
            ]
          },
          "metadata": {
            "tags": []
          },
          "execution_count": 18
        }
      ]
    },
    {
      "cell_type": "code",
      "metadata": {
        "colab": {
          "base_uri": "https://localhost:8080/"
        },
        "id": "ZZIjEaDo8loD",
        "outputId": "628bc588-5c6f-48a4-d5b6-dde7cf808787"
      },
      "source": [
        "make_citations = parking_citations_df['Make'].value_counts()\n",
        "make_top_ten_citations = make_citations.nlargest(n = 10)\n",
        "make_japanese_top_ten_citations.sum()/make_top_ten_citations.sum()"
      ],
      "execution_count": null,
      "outputs": [
        {
          "output_type": "execute_result",
          "data": {
            "text/plain": [
              "0.5003315745466078"
            ]
          },
          "metadata": {
            "tags": []
          },
          "execution_count": 19
        }
      ]
    },
    {
      "cell_type": "markdown",
      "metadata": {
        "id": "cZ6g5s9c8loE"
      },
      "source": [
        "#### First, find the total number of citations given in each year between 2004 and 2014 (inclusive). Next, using linear regression, create a function that plots the total number of citations as a function of the year. If you were to plot a line using this function, what would be the slope of that line?"
      ]
    },
    {
      "cell_type": "code",
      "metadata": {
        "id": "2LQB30vD8loE"
      },
      "source": [
        "parking_citations_2004_2014_total = []\n",
        "parking_citations_year = []\n",
        "for year in range(2004, 2015):\n",
        "    parking_citations_2004_2014_total.append( \\\n",
        "    parking_citations_df['ViolFine'][parking_citations_df['ViolDate'].dt.year == year].sum())\n",
        "    parking_citations_year.append(year)"
      ],
      "execution_count": null,
      "outputs": []
    },
    {
      "cell_type": "code",
      "metadata": {
        "colab": {
          "base_uri": "https://localhost:8080/",
          "height": 265
        },
        "id": "4_KgPcW38loE",
        "outputId": "89d7e6a3-e98f-40b5-a6fe-206a31676137"
      },
      "source": [
        "plt.scatter(parking_citations_year, parking_citations_2004_2014_total)\n",
        "plt.show()"
      ],
      "execution_count": null,
      "outputs": [
        {
          "output_type": "display_data",
          "data": {
            "image/png": "[encoded data removed]",
            "text/plain": [
              "<Figure size 432x288 with 1 Axes>"
            ]
          },
          "metadata": {
            "tags": [],
            "needs_background": "light"
          }
        }
      ]
    }
  ]
}